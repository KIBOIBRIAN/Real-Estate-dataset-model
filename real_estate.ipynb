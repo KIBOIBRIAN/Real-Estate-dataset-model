{
 "cells": [
  {
   "cell_type": "markdown",
   "metadata": {},
   "source": [
    "# Real Estate Data Analysis\n",
    "\n",
    "[Data Source](https://drive.google.com/file/d/1hDWtr00dFzbeW4u4KEVPVUivu8ZksYKm/view)\n",
    "\n",
    "**Objective**: Exploratory analysis of the real estate dataset and train a linear regression model to estimate house price of unit area. Features combination of *house age*, *distance to the nearest MRT station*, and *number of convenience stores*.\n"
   ]
  },
  {
   "cell_type": "code",
   "execution_count": 621,
   "metadata": {},
   "outputs": [],
   "source": [
    "## import libraries\n",
    "import pandas as pd \n",
    "import numpy as np \n",
    "import matplotlib.pyplot as plt \n",
    "import seaborn as sns \n",
    "import warnings\n",
    "warnings.filterwarnings('ignore')\n"
   ]
  },
  {
   "cell_type": "markdown",
   "metadata": {},
   "source": [
    "## Preprocessing"
   ]
  },
  {
   "cell_type": "markdown",
   "metadata": {},
   "source": [
    "### Load data"
   ]
  },
  {
   "cell_type": "code",
   "execution_count": 622,
   "metadata": {},
   "outputs": [
    {
     "name": "stdout",
     "output_type": "stream",
     "text": [
      "shape of the dataset: (414, 8)\n"
     ]
    },
    {
     "data": {
      "text/html": [
       "<div>\n",
       "<style scoped>\n",
       "    .dataframe tbody tr th:only-of-type {\n",
       "        vertical-align: middle;\n",
       "    }\n",
       "\n",
       "    .dataframe tbody tr th {\n",
       "        vertical-align: top;\n",
       "    }\n",
       "\n",
       "    .dataframe thead th {\n",
       "        text-align: right;\n",
       "    }\n",
       "</style>\n",
       "<table border=\"1\" class=\"dataframe\">\n",
       "  <thead>\n",
       "    <tr style=\"text-align: right;\">\n",
       "      <th></th>\n",
       "      <th>No</th>\n",
       "      <th>X1 transaction date</th>\n",
       "      <th>X2 house age</th>\n",
       "      <th>X3 distance to the nearest MRT station</th>\n",
       "      <th>X4 number of convenience stores</th>\n",
       "      <th>X5 latitude</th>\n",
       "      <th>X6 longitude</th>\n",
       "      <th>Y house price of unit area</th>\n",
       "    </tr>\n",
       "  </thead>\n",
       "  <tbody>\n",
       "    <tr>\n",
       "      <th>0</th>\n",
       "      <td>1</td>\n",
       "      <td>2012.917</td>\n",
       "      <td>32.0</td>\n",
       "      <td>84.87882</td>\n",
       "      <td>10</td>\n",
       "      <td>24.98298</td>\n",
       "      <td>121.54024</td>\n",
       "      <td>37.9</td>\n",
       "    </tr>\n",
       "    <tr>\n",
       "      <th>1</th>\n",
       "      <td>2</td>\n",
       "      <td>2012.917</td>\n",
       "      <td>19.5</td>\n",
       "      <td>306.59470</td>\n",
       "      <td>9</td>\n",
       "      <td>24.98034</td>\n",
       "      <td>121.53951</td>\n",
       "      <td>42.2</td>\n",
       "    </tr>\n",
       "    <tr>\n",
       "      <th>2</th>\n",
       "      <td>3</td>\n",
       "      <td>2013.583</td>\n",
       "      <td>13.3</td>\n",
       "      <td>561.98450</td>\n",
       "      <td>5</td>\n",
       "      <td>24.98746</td>\n",
       "      <td>121.54391</td>\n",
       "      <td>47.3</td>\n",
       "    </tr>\n",
       "    <tr>\n",
       "      <th>3</th>\n",
       "      <td>4</td>\n",
       "      <td>2013.500</td>\n",
       "      <td>13.3</td>\n",
       "      <td>561.98450</td>\n",
       "      <td>5</td>\n",
       "      <td>24.98746</td>\n",
       "      <td>121.54391</td>\n",
       "      <td>54.8</td>\n",
       "    </tr>\n",
       "    <tr>\n",
       "      <th>4</th>\n",
       "      <td>5</td>\n",
       "      <td>2012.833</td>\n",
       "      <td>5.0</td>\n",
       "      <td>390.56840</td>\n",
       "      <td>5</td>\n",
       "      <td>24.97937</td>\n",
       "      <td>121.54245</td>\n",
       "      <td>43.1</td>\n",
       "    </tr>\n",
       "  </tbody>\n",
       "</table>\n",
       "</div>"
      ],
      "text/plain": [
       "   No  X1 transaction date  X2 house age  \\\n",
       "0   1             2012.917          32.0   \n",
       "1   2             2012.917          19.5   \n",
       "2   3             2013.583          13.3   \n",
       "3   4             2013.500          13.3   \n",
       "4   5             2012.833           5.0   \n",
       "\n",
       "   X3 distance to the nearest MRT station  X4 number of convenience stores  \\\n",
       "0                                84.87882                               10   \n",
       "1                               306.59470                                9   \n",
       "2                               561.98450                                5   \n",
       "3                               561.98450                                5   \n",
       "4                               390.56840                                5   \n",
       "\n",
       "   X5 latitude  X6 longitude  Y house price of unit area  \n",
       "0     24.98298     121.54024                        37.9  \n",
       "1     24.98034     121.53951                        42.2  \n",
       "2     24.98746     121.54391                        47.3  \n",
       "3     24.98746     121.54391                        54.8  \n",
       "4     24.97937     121.54245                        43.1  "
      ]
     },
     "execution_count": 622,
     "metadata": {},
     "output_type": "execute_result"
    }
   ],
   "source": [
    "df=pd.read_csv('data/real_estate.csv')\n",
    "print('shape of the dataset:',df.shape)\n",
    "df.head()"
   ]
  },
  {
   "cell_type": "code",
   "execution_count": 623,
   "metadata": {},
   "outputs": [],
   "source": [
    "# rename columns: Replace 'space' with '_'\n",
    "df.columns=df.columns.str.replace(' ','_')"
   ]
  },
  {
   "cell_type": "code",
   "execution_count": 624,
   "metadata": {},
   "outputs": [
    {
     "data": {
      "text/html": [
       "<div>\n",
       "<style scoped>\n",
       "    .dataframe tbody tr th:only-of-type {\n",
       "        vertical-align: middle;\n",
       "    }\n",
       "\n",
       "    .dataframe tbody tr th {\n",
       "        vertical-align: top;\n",
       "    }\n",
       "\n",
       "    .dataframe thead th {\n",
       "        text-align: right;\n",
       "    }\n",
       "</style>\n",
       "<table border=\"1\" class=\"dataframe\">\n",
       "  <thead>\n",
       "    <tr style=\"text-align: right;\">\n",
       "      <th></th>\n",
       "      <th>X1_transaction_date</th>\n",
       "      <th>X2_house_age</th>\n",
       "      <th>X3_distance_to_the_nearest_MRT_station</th>\n",
       "      <th>X4_number_of_convenience_stores</th>\n",
       "      <th>X5_latitude</th>\n",
       "      <th>X6_longitude</th>\n",
       "      <th>Y_house_price_of_unit_area</th>\n",
       "    </tr>\n",
       "  </thead>\n",
       "  <tbody>\n",
       "    <tr>\n",
       "      <th>81</th>\n",
       "      <td>2013.000</td>\n",
       "      <td>30.8</td>\n",
       "      <td>377.7956</td>\n",
       "      <td>6</td>\n",
       "      <td>24.96427</td>\n",
       "      <td>121.53964</td>\n",
       "      <td>36.8</td>\n",
       "    </tr>\n",
       "    <tr>\n",
       "      <th>182</th>\n",
       "      <td>2013.500</td>\n",
       "      <td>13.5</td>\n",
       "      <td>2147.3760</td>\n",
       "      <td>3</td>\n",
       "      <td>24.96299</td>\n",
       "      <td>121.51284</td>\n",
       "      <td>23.6</td>\n",
       "    </tr>\n",
       "    <tr>\n",
       "      <th>288</th>\n",
       "      <td>2013.583</td>\n",
       "      <td>16.6</td>\n",
       "      <td>323.6912</td>\n",
       "      <td>6</td>\n",
       "      <td>24.97841</td>\n",
       "      <td>121.54280</td>\n",
       "      <td>51.0</td>\n",
       "    </tr>\n",
       "    <tr>\n",
       "      <th>248</th>\n",
       "      <td>2013.000</td>\n",
       "      <td>19.0</td>\n",
       "      <td>1009.2350</td>\n",
       "      <td>0</td>\n",
       "      <td>24.96357</td>\n",
       "      <td>121.54951</td>\n",
       "      <td>22.3</td>\n",
       "    </tr>\n",
       "    <tr>\n",
       "      <th>2</th>\n",
       "      <td>2013.583</td>\n",
       "      <td>13.3</td>\n",
       "      <td>561.9845</td>\n",
       "      <td>5</td>\n",
       "      <td>24.98746</td>\n",
       "      <td>121.54391</td>\n",
       "      <td>47.3</td>\n",
       "    </tr>\n",
       "  </tbody>\n",
       "</table>\n",
       "</div>"
      ],
      "text/plain": [
       "     X1_transaction_date  X2_house_age  \\\n",
       "81              2013.000          30.8   \n",
       "182             2013.500          13.5   \n",
       "288             2013.583          16.6   \n",
       "248             2013.000          19.0   \n",
       "2               2013.583          13.3   \n",
       "\n",
       "     X3_distance_to_the_nearest_MRT_station  X4_number_of_convenience_stores  \\\n",
       "81                                 377.7956                                6   \n",
       "182                               2147.3760                                3   \n",
       "288                                323.6912                                6   \n",
       "248                               1009.2350                                0   \n",
       "2                                  561.9845                                5   \n",
       "\n",
       "     X5_latitude  X6_longitude  Y_house_price_of_unit_area  \n",
       "81      24.96427     121.53964                        36.8  \n",
       "182     24.96299     121.51284                        23.6  \n",
       "288     24.97841     121.54280                        51.0  \n",
       "248     24.96357     121.54951                        22.3  \n",
       "2       24.98746     121.54391                        47.3  "
      ]
     },
     "execution_count": 624,
     "metadata": {},
     "output_type": "execute_result"
    }
   ],
   "source": [
    "# drop the 'No' columns, it is a duplicate of 'index' \n",
    "df=df.drop(columns='No')\n",
    "df.sample(5)"
   ]
  },
  {
   "cell_type": "code",
   "execution_count": 625,
   "metadata": {},
   "outputs": [
    {
     "name": "stdout",
     "output_type": "stream",
     "text": [
      "<class 'pandas.core.frame.DataFrame'>\n",
      "RangeIndex: 414 entries, 0 to 413\n",
      "Data columns (total 7 columns):\n",
      " #   Column                                  Non-Null Count  Dtype  \n",
      "---  ------                                  --------------  -----  \n",
      " 0   X1_transaction_date                     414 non-null    float64\n",
      " 1   X2_house_age                            414 non-null    float64\n",
      " 2   X3_distance_to_the_nearest_MRT_station  414 non-null    float64\n",
      " 3   X4_number_of_convenience_stores         414 non-null    int64  \n",
      " 4   X5_latitude                             414 non-null    float64\n",
      " 5   X6_longitude                            414 non-null    float64\n",
      " 6   Y_house_price_of_unit_area              414 non-null    float64\n",
      "dtypes: float64(6), int64(1)\n",
      "memory usage: 22.8 KB\n"
     ]
    }
   ],
   "source": [
    "# check datatypes \n",
    "df.info()"
   ]
  },
  {
   "cell_type": "markdown",
   "metadata": {},
   "source": [
    "### Missing & Duplicated values"
   ]
  },
  {
   "cell_type": "code",
   "execution_count": 626,
   "metadata": {},
   "outputs": [
    {
     "name": "stdout",
     "output_type": "stream",
     "text": [
      "Missing values per column:\n",
      " X1_transaction_date                       0\n",
      "X2_house_age                              0\n",
      "X3_distance_to_the_nearest_MRT_station    0\n",
      "X4_number_of_convenience_stores           0\n",
      "X5_latitude                               0\n",
      "X6_longitude                              0\n",
      "Y_house_price_of_unit_area                0\n",
      "dtype: int64\n",
      "\n",
      " Duplicates\n",
      " 0\n"
     ]
    }
   ],
   "source": [
    "# Missing values\n",
    "print('Missing values per column:\\n',df.isnull().sum(axis=0))\n",
    "# Duplicate values\n",
    "print('\\n Duplicates\\n',df.duplicated().sum())"
   ]
  },
  {
   "cell_type": "markdown",
   "metadata": {},
   "source": [
    "The data does not have any missing value or duplicated values"
   ]
  },
  {
   "cell_type": "markdown",
   "metadata": {},
   "source": [
    "### Outliers"
   ]
  },
  {
   "cell_type": "code",
   "execution_count": 627,
   "metadata": {},
   "outputs": [
    {
     "data": {
      "image/png": "[encoded data removed]",
      "text/plain": [
       "<Figure size 1440x360 with 6 Axes>"
      ]
     },
     "metadata": {
      "needs_background": "light"
     },
     "output_type": "display_data"
    }
   ],
   "source": [
    "# plot a box plot for all numerical values \n",
    "# Construct the subplot matrix\n",
    "fig, ax_array = plt.subplots(nrows=3, ncols=2,figsize=(20,5))\n",
    "\n",
    "# Define arrays to plot on \n",
    "ax_array = ax_array.flatten()\n",
    "\n",
    "# Iteratively plot every variable as a boxplot\n",
    "for i, ax in enumerate(ax_array):\n",
    "  sns.boxplot(data=df.iloc[:,i+1], orient=\"h\", ax = ax)\n",
    "  # Set the title as the variable name\n",
    "  ax.set_title(df.columns[i+1])\n",
    "  fig.subplots_adjust(top=2)\n",
    "\n",
    "plt.show()"
   ]
  },
  {
   "cell_type": "markdown",
   "metadata": {},
   "source": [
    "Column *X3_distance_to_the_nearest_MRT_station* has outliers."
   ]
  },
  {
   "cell_type": "code",
   "execution_count": 628,
   "metadata": {},
   "outputs": [
    {
     "name": "stdout",
     "output_type": "stream",
     "text": [
      "Column  X2_house_age Outliers:  []\n",
      "Column  X3_distance_to_the_nearest_MRT_station Outliers:  [8, 30, 35, 40, 41, 48, 49, 58, 73, 87, 89, 116, 117, 148, 154, 155, 162, 170, 176, 180, 183, 187, 189, 194, 226, 228, 231, 232, 249, 255, 298, 307, 320, 329, 331, 344, 347, 382, 384, 394, 409]\n",
      "Column  X4_number_of_convenience_stores Outliers:  []\n"
     ]
    }
   ],
   "source": [
    "# Identify the outliers using Tukey Rule to determine whether ro remove or not\n",
    "\n",
    "cols = ['X2_house_age','X3_distance_to_the_nearest_MRT_station','X4_number_of_convenience_stores']\n",
    "#Tukey's method\n",
    "def tukey_rule(data, col):\n",
    "    Q1 = data[col].quantile(0.25)\n",
    "    Q3 = data[col].quantile(0.75)\n",
    "    IQR = Q3 - Q1\n",
    "    upper_lim = data[col].quantile(0.5) + 2 * IQR\n",
    "    lower_lim = data[col].quantile(0.5) - 2 * IQR\n",
    "    outliers = []\n",
    "    for index, x in enumerate(data[col]):\n",
    "        if x < lower_lim or x >= upper_lim:\n",
    "            outliers.append(index)\n",
    "    return outliers\n",
    "\n",
    "# Identify outliers\n",
    "for i in cols:\n",
    "  outliers_Tukey = tukey_rule(df,i)\n",
    "  print(\"Column \",i,\"Outliers: \",outliers_Tukey)"
   ]
  },
  {
   "cell_type": "markdown",
   "metadata": {},
   "source": [
    "We will keep the outliers. Given that the size of the outliers is significant in comparison to the size of our dataset. Removing the outliers will cause a  statistical significance on our data."
   ]
  },
  {
   "cell_type": "markdown",
   "metadata": {},
   "source": [
    "### Scaling\n"
   ]
  },
  {
   "cell_type": "markdown",
   "metadata": {},
   "source": [
    "#### Density plots"
   ]
  },
  {
   "cell_type": "code",
   "execution_count": 629,
   "metadata": {},
   "outputs": [
    {
     "data": {
      "image/png": "[encoded data removed]",
      "text/plain": [
       "<Figure size 1440x360 with 6 Axes>"
      ]
     },
     "metadata": {
      "needs_background": "light"
     },
     "output_type": "display_data"
    }
   ],
   "source": [
    "# plot a density plot for all numerical values \n",
    "# Construct the subplot matrix\n",
    "fig, ax_array = plt.subplots(nrows=3, ncols=2,figsize=(20,5))\n",
    "\n",
    "# Define arrays to plot on \n",
    "ax_array = ax_array.flatten()\n",
    "\n",
    "# Iteratively plot every variable as a boxplot\n",
    "for i, ax in enumerate(ax_array):\n",
    "  sns.distplot(df.iloc[:,i+1], ax=ax)\n",
    "  fig.subplots_adjust(top=2)\n",
    "\n",
    "plt.show()"
   ]
  },
  {
   "cell_type": "markdown",
   "metadata": {},
   "source": [
    "#### Standard Scaler"
   ]
  },
  {
   "cell_type": "code",
   "execution_count": 630,
   "metadata": {},
   "outputs": [
    {
     "data": {
      "text/html": [
       "<div>\n",
       "<style scoped>\n",
       "    .dataframe tbody tr th:only-of-type {\n",
       "        vertical-align: middle;\n",
       "    }\n",
       "\n",
       "    .dataframe tbody tr th {\n",
       "        vertical-align: top;\n",
       "    }\n",
       "\n",
       "    .dataframe thead th {\n",
       "        text-align: right;\n",
       "    }\n",
       "</style>\n",
       "<table border=\"1\" class=\"dataframe\">\n",
       "  <thead>\n",
       "    <tr style=\"text-align: right;\">\n",
       "      <th></th>\n",
       "      <th>X2_house_age</th>\n",
       "      <th>X3_distance_to_the_nearest_MRT_station</th>\n",
       "      <th>X4_number_of_convenience_stores</th>\n",
       "      <th>X5_latitude</th>\n",
       "      <th>X6_longitude</th>\n",
       "    </tr>\n",
       "  </thead>\n",
       "  <tbody>\n",
       "    <tr>\n",
       "      <th>0</th>\n",
       "      <td>1.255628</td>\n",
       "      <td>-0.792495</td>\n",
       "      <td>2.007407</td>\n",
       "      <td>1.125430</td>\n",
       "      <td>0.448762</td>\n",
       "    </tr>\n",
       "    <tr>\n",
       "      <th>1</th>\n",
       "      <td>0.157086</td>\n",
       "      <td>-0.616612</td>\n",
       "      <td>1.667503</td>\n",
       "      <td>0.912444</td>\n",
       "      <td>0.401139</td>\n",
       "    </tr>\n",
       "    <tr>\n",
       "      <th>2</th>\n",
       "      <td>-0.387791</td>\n",
       "      <td>-0.414015</td>\n",
       "      <td>0.307885</td>\n",
       "      <td>1.486860</td>\n",
       "      <td>0.688183</td>\n",
       "    </tr>\n",
       "    <tr>\n",
       "      <th>3</th>\n",
       "      <td>-0.387791</td>\n",
       "      <td>-0.414015</td>\n",
       "      <td>0.307885</td>\n",
       "      <td>1.486860</td>\n",
       "      <td>0.688183</td>\n",
       "    </tr>\n",
       "    <tr>\n",
       "      <th>4</th>\n",
       "      <td>-1.117223</td>\n",
       "      <td>-0.549997</td>\n",
       "      <td>0.307885</td>\n",
       "      <td>0.834188</td>\n",
       "      <td>0.592937</td>\n",
       "    </tr>\n",
       "  </tbody>\n",
       "</table>\n",
       "</div>"
      ],
      "text/plain": [
       "   X2_house_age  X3_distance_to_the_nearest_MRT_station  \\\n",
       "0      1.255628                               -0.792495   \n",
       "1      0.157086                               -0.616612   \n",
       "2     -0.387791                               -0.414015   \n",
       "3     -0.387791                               -0.414015   \n",
       "4     -1.117223                               -0.549997   \n",
       "\n",
       "   X4_number_of_convenience_stores  X5_latitude  X6_longitude  \n",
       "0                         2.007407     1.125430      0.448762  \n",
       "1                         1.667503     0.912444      0.401139  \n",
       "2                         0.307885     1.486860      0.688183  \n",
       "3                         0.307885     1.486860      0.688183  \n",
       "4                         0.307885     0.834188      0.592937  "
      ]
     },
     "execution_count": 630,
     "metadata": {},
     "output_type": "execute_result"
    }
   ],
   "source": [
    "from sklearn.preprocessing import StandardScaler\n",
    "scaler = StandardScaler()\n",
    "features=['X2_house_age','X3_distance_to_the_nearest_MRT_station','X4_number_of_convenience_stores','X5_latitude','X6_longitude']\n",
    "df_scaled=df[['X2_house_age','X3_distance_to_the_nearest_MRT_station','X4_number_of_convenience_stores','X5_latitude','X6_longitude']]\n",
    "df_scaled[features] = scaler.fit_transform(df_scaled.values)\n",
    "df_scaled.head(5)"
   ]
  },
  {
   "cell_type": "markdown",
   "metadata": {},
   "source": [
    "Our dataset has columns with different units.To be sure that the model treats both variables equally we have to scale the data by transformation of data into z-scores (by subtracting the feature mean and divding by the feature standard deviation). It's purpose is to ensure all features are on a common scale without distorting the relative differences between the instance values."
   ]
  },
  {
   "cell_type": "markdown",
   "metadata": {},
   "source": [
    "### Transform"
   ]
  },
  {
   "cell_type": "code",
   "execution_count": 631,
   "metadata": {},
   "outputs": [
    {
     "data": {
      "text/html": [
       "<div>\n",
       "<style scoped>\n",
       "    .dataframe tbody tr th:only-of-type {\n",
       "        vertical-align: middle;\n",
       "    }\n",
       "\n",
       "    .dataframe tbody tr th {\n",
       "        vertical-align: top;\n",
       "    }\n",
       "\n",
       "    .dataframe thead th {\n",
       "        text-align: right;\n",
       "    }\n",
       "</style>\n",
       "<table border=\"1\" class=\"dataframe\">\n",
       "  <thead>\n",
       "    <tr style=\"text-align: right;\">\n",
       "      <th></th>\n",
       "      <th>X2_house_age</th>\n",
       "      <th>X3_distance_to_the_nearest_MRT_station</th>\n",
       "      <th>X4_number_of_convenience_stores</th>\n",
       "      <th>X5_latitude</th>\n",
       "      <th>X6_longitude</th>\n",
       "    </tr>\n",
       "  </thead>\n",
       "  <tbody>\n",
       "    <tr>\n",
       "      <th>0</th>\n",
       "      <td>1.215934</td>\n",
       "      <td>-1.360505</td>\n",
       "      <td>1.908441</td>\n",
       "      <td>1.187649</td>\n",
       "      <td>0.304736</td>\n",
       "    </tr>\n",
       "    <tr>\n",
       "      <th>1</th>\n",
       "      <td>0.282924</td>\n",
       "      <td>-0.757326</td>\n",
       "      <td>1.606985</td>\n",
       "      <td>0.926901</td>\n",
       "      <td>0.232235</td>\n",
       "    </tr>\n",
       "    <tr>\n",
       "      <th>2</th>\n",
       "      <td>-0.291916</td>\n",
       "      <td>-0.188349</td>\n",
       "      <td>0.346429</td>\n",
       "      <td>1.646061</td>\n",
       "      <td>0.699774</td>\n",
       "    </tr>\n",
       "    <tr>\n",
       "      <th>3</th>\n",
       "      <td>-0.291916</td>\n",
       "      <td>-0.188349</td>\n",
       "      <td>0.346429</td>\n",
       "      <td>1.646061</td>\n",
       "      <td>0.699774</td>\n",
       "    </tr>\n",
       "    <tr>\n",
       "      <th>4</th>\n",
       "      <td>-1.194272</td>\n",
       "      <td>-0.555906</td>\n",
       "      <td>0.346429</td>\n",
       "      <td>0.832983</td>\n",
       "      <td>0.536557</td>\n",
       "    </tr>\n",
       "  </tbody>\n",
       "</table>\n",
       "</div>"
      ],
      "text/plain": [
       "   X2_house_age  X3_distance_to_the_nearest_MRT_station  \\\n",
       "0      1.215934                               -1.360505   \n",
       "1      0.282924                               -0.757326   \n",
       "2     -0.291916                               -0.188349   \n",
       "3     -0.291916                               -0.188349   \n",
       "4     -1.194272                               -0.555906   \n",
       "\n",
       "   X4_number_of_convenience_stores  X5_latitude  X6_longitude  \n",
       "0                         1.908441     1.187649      0.304736  \n",
       "1                         1.606985     0.926901      0.232235  \n",
       "2                         0.346429     1.646061      0.699774  \n",
       "3                         0.346429     1.646061      0.699774  \n",
       "4                         0.346429     0.832983      0.536557  "
      ]
     },
     "execution_count": 631,
     "metadata": {},
     "output_type": "execute_result"
    }
   ],
   "source": [
    "from sklearn.preprocessing import PowerTransformer\n",
    "scaler = PowerTransformer(method = 'yeo-johnson')\n",
    "df_scaled[features] = scaler.fit_transform(df_scaled.values)\n",
    "df_scaled.head(5)"
   ]
  },
  {
   "cell_type": "markdown",
   "metadata": {},
   "source": [
    "**Justification**: Some Machine Learning models, like Linear and Logistic regression, assume that the variables follow a normal distribution. Our features  does not follow a normal distribtution. By applying some transformations to these features, we can ensure that this can increase the performance of our models."
   ]
  },
  {
   "cell_type": "code",
   "execution_count": 632,
   "metadata": {},
   "outputs": [
    {
     "data": {
      "image/png": "[encoded data removed]",
      "text/plain": [
       "<Figure size 1440x144 with 3 Axes>"
      ]
     },
     "metadata": {
      "needs_background": "light"
     },
     "output_type": "display_data"
    }
   ],
   "source": [
    "# Distribution after transfrom and scaling\n",
    "# Construct the subplot matrix\n",
    "fig, ax_array = plt.subplots(nrows=1, ncols=3,figsize=(20,2))\n",
    "# Define arrays to plot on \n",
    "ax_array = ax_array.flatten()\n",
    "# Iteratively plot every variable as a boxplot\n",
    "for i, ax in enumerate(ax_array):\n",
    "  sns.distplot(df_scaled.iloc[:,i], ax=ax)\n",
    "  fig.subplots_adjust(top=2)\n",
    "\n",
    "plt.show()"
   ]
  },
  {
   "cell_type": "markdown",
   "metadata": {},
   "source": [
    "### Columns that contain discrete variables, convert them to dummy variables"
   ]
  },
  {
   "cell_type": "code",
   "execution_count": 633,
   "metadata": {},
   "outputs": [
    {
     "data": {
      "text/html": [
       "<div>\n",
       "<style scoped>\n",
       "    .dataframe tbody tr th:only-of-type {\n",
       "        vertical-align: middle;\n",
       "    }\n",
       "\n",
       "    .dataframe tbody tr th {\n",
       "        vertical-align: top;\n",
       "    }\n",
       "\n",
       "    .dataframe thead th {\n",
       "        text-align: right;\n",
       "    }\n",
       "</style>\n",
       "<table border=\"1\" class=\"dataframe\">\n",
       "  <thead>\n",
       "    <tr style=\"text-align: right;\">\n",
       "      <th></th>\n",
       "      <th>X1_transaction_date</th>\n",
       "      <th>X2_house_age</th>\n",
       "      <th>X3_distance_to_the_nearest_MRT_station</th>\n",
       "      <th>X4_number_of_convenience_stores</th>\n",
       "      <th>X5_latitude</th>\n",
       "      <th>X6_longitude</th>\n",
       "      <th>Y_house_price_of_unit_area</th>\n",
       "    </tr>\n",
       "  </thead>\n",
       "  <tbody>\n",
       "    <tr>\n",
       "      <th>391</th>\n",
       "      <td>2013.583</td>\n",
       "      <td>6.2</td>\n",
       "      <td>1939.7490</td>\n",
       "      <td>1</td>\n",
       "      <td>24.95155</td>\n",
       "      <td>121.55387</td>\n",
       "      <td>31.3</td>\n",
       "    </tr>\n",
       "    <tr>\n",
       "      <th>299</th>\n",
       "      <td>2013.167</td>\n",
       "      <td>33.2</td>\n",
       "      <td>121.7262</td>\n",
       "      <td>10</td>\n",
       "      <td>24.98178</td>\n",
       "      <td>121.54059</td>\n",
       "      <td>46.1</td>\n",
       "    </tr>\n",
       "    <tr>\n",
       "      <th>62</th>\n",
       "      <td>2012.917</td>\n",
       "      <td>17.2</td>\n",
       "      <td>2175.8770</td>\n",
       "      <td>3</td>\n",
       "      <td>24.96303</td>\n",
       "      <td>121.51254</td>\n",
       "      <td>27.7</td>\n",
       "    </tr>\n",
       "    <tr>\n",
       "      <th>329</th>\n",
       "      <td>2013.000</td>\n",
       "      <td>13.6</td>\n",
       "      <td>4197.3490</td>\n",
       "      <td>0</td>\n",
       "      <td>24.93885</td>\n",
       "      <td>121.50383</td>\n",
       "      <td>19.2</td>\n",
       "    </tr>\n",
       "    <tr>\n",
       "      <th>278</th>\n",
       "      <td>2012.750</td>\n",
       "      <td>0.0</td>\n",
       "      <td>208.3905</td>\n",
       "      <td>6</td>\n",
       "      <td>24.95618</td>\n",
       "      <td>121.53844</td>\n",
       "      <td>44.0</td>\n",
       "    </tr>\n",
       "  </tbody>\n",
       "</table>\n",
       "</div>"
      ],
      "text/plain": [
       "     X1_transaction_date  X2_house_age  \\\n",
       "391             2013.583           6.2   \n",
       "299             2013.167          33.2   \n",
       "62              2012.917          17.2   \n",
       "329             2013.000          13.6   \n",
       "278             2012.750           0.0   \n",
       "\n",
       "     X3_distance_to_the_nearest_MRT_station  X4_number_of_convenience_stores  \\\n",
       "391                               1939.7490                                1   \n",
       "299                                121.7262                               10   \n",
       "62                                2175.8770                                3   \n",
       "329                               4197.3490                                0   \n",
       "278                                208.3905                                6   \n",
       "\n",
       "     X5_latitude  X6_longitude  Y_house_price_of_unit_area  \n",
       "391     24.95155     121.55387                        31.3  \n",
       "299     24.98178     121.54059                        46.1  \n",
       "62      24.96303     121.51254                        27.7  \n",
       "329     24.93885     121.50383                        19.2  \n",
       "278     24.95618     121.53844                        44.0  "
      ]
     },
     "execution_count": 633,
     "metadata": {},
     "output_type": "execute_result"
    }
   ],
   "source": [
    "df.sample(5)"
   ]
  },
  {
   "cell_type": "markdown",
   "metadata": {},
   "source": [
    "Column *X4_number_of_convenience_stores* contain discrete variables"
   ]
  },
  {
   "cell_type": "code",
   "execution_count": 634,
   "metadata": {},
   "outputs": [
    {
     "data": {
      "text/html": [
       "<div>\n",
       "<style scoped>\n",
       "    .dataframe tbody tr th:only-of-type {\n",
       "        vertical-align: middle;\n",
       "    }\n",
       "\n",
       "    .dataframe tbody tr th {\n",
       "        vertical-align: top;\n",
       "    }\n",
       "\n",
       "    .dataframe thead th {\n",
       "        text-align: right;\n",
       "    }\n",
       "</style>\n",
       "<table border=\"1\" class=\"dataframe\">\n",
       "  <thead>\n",
       "    <tr style=\"text-align: right;\">\n",
       "      <th></th>\n",
       "      <th>X1_transaction_date</th>\n",
       "      <th>X2_house_age</th>\n",
       "      <th>X3_distance_to_the_nearest_MRT_station</th>\n",
       "      <th>X5_latitude</th>\n",
       "      <th>X6_longitude</th>\n",
       "      <th>Y_house_price_of_unit_area</th>\n",
       "      <th>X4_number_of_convenience_stores_0</th>\n",
       "      <th>X4_number_of_convenience_stores_1</th>\n",
       "      <th>X4_number_of_convenience_stores_2</th>\n",
       "      <th>X4_number_of_convenience_stores_3</th>\n",
       "      <th>X4_number_of_convenience_stores_4</th>\n",
       "      <th>X4_number_of_convenience_stores_5</th>\n",
       "      <th>X4_number_of_convenience_stores_6</th>\n",
       "      <th>X4_number_of_convenience_stores_7</th>\n",
       "      <th>X4_number_of_convenience_stores_8</th>\n",
       "      <th>X4_number_of_convenience_stores_9</th>\n",
       "      <th>X4_number_of_convenience_stores_10</th>\n",
       "    </tr>\n",
       "  </thead>\n",
       "  <tbody>\n",
       "    <tr>\n",
       "      <th>0</th>\n",
       "      <td>2012.917</td>\n",
       "      <td>32.0</td>\n",
       "      <td>84.87882</td>\n",
       "      <td>24.98298</td>\n",
       "      <td>121.54024</td>\n",
       "      <td>37.9</td>\n",
       "      <td>0</td>\n",
       "      <td>0</td>\n",
       "      <td>0</td>\n",
       "      <td>0</td>\n",
       "      <td>0</td>\n",
       "      <td>0</td>\n",
       "      <td>0</td>\n",
       "      <td>0</td>\n",
       "      <td>0</td>\n",
       "      <td>0</td>\n",
       "      <td>1</td>\n",
       "    </tr>\n",
       "    <tr>\n",
       "      <th>1</th>\n",
       "      <td>2012.917</td>\n",
       "      <td>19.5</td>\n",
       "      <td>306.59470</td>\n",
       "      <td>24.98034</td>\n",
       "      <td>121.53951</td>\n",
       "      <td>42.2</td>\n",
       "      <td>0</td>\n",
       "      <td>0</td>\n",
       "      <td>0</td>\n",
       "      <td>0</td>\n",
       "      <td>0</td>\n",
       "      <td>0</td>\n",
       "      <td>0</td>\n",
       "      <td>0</td>\n",
       "      <td>0</td>\n",
       "      <td>1</td>\n",
       "      <td>0</td>\n",
       "    </tr>\n",
       "    <tr>\n",
       "      <th>2</th>\n",
       "      <td>2013.583</td>\n",
       "      <td>13.3</td>\n",
       "      <td>561.98450</td>\n",
       "      <td>24.98746</td>\n",
       "      <td>121.54391</td>\n",
       "      <td>47.3</td>\n",
       "      <td>0</td>\n",
       "      <td>0</td>\n",
       "      <td>0</td>\n",
       "      <td>0</td>\n",
       "      <td>0</td>\n",
       "      <td>1</td>\n",
       "      <td>0</td>\n",
       "      <td>0</td>\n",
       "      <td>0</td>\n",
       "      <td>0</td>\n",
       "      <td>0</td>\n",
       "    </tr>\n",
       "    <tr>\n",
       "      <th>3</th>\n",
       "      <td>2013.500</td>\n",
       "      <td>13.3</td>\n",
       "      <td>561.98450</td>\n",
       "      <td>24.98746</td>\n",
       "      <td>121.54391</td>\n",
       "      <td>54.8</td>\n",
       "      <td>0</td>\n",
       "      <td>0</td>\n",
       "      <td>0</td>\n",
       "      <td>0</td>\n",
       "      <td>0</td>\n",
       "      <td>1</td>\n",
       "      <td>0</td>\n",
       "      <td>0</td>\n",
       "      <td>0</td>\n",
       "      <td>0</td>\n",
       "      <td>0</td>\n",
       "    </tr>\n",
       "    <tr>\n",
       "      <th>4</th>\n",
       "      <td>2012.833</td>\n",
       "      <td>5.0</td>\n",
       "      <td>390.56840</td>\n",
       "      <td>24.97937</td>\n",
       "      <td>121.54245</td>\n",
       "      <td>43.1</td>\n",
       "      <td>0</td>\n",
       "      <td>0</td>\n",
       "      <td>0</td>\n",
       "      <td>0</td>\n",
       "      <td>0</td>\n",
       "      <td>1</td>\n",
       "      <td>0</td>\n",
       "      <td>0</td>\n",
       "      <td>0</td>\n",
       "      <td>0</td>\n",
       "      <td>0</td>\n",
       "    </tr>\n",
       "  </tbody>\n",
       "</table>\n",
       "</div>"
      ],
      "text/plain": [
       "   X1_transaction_date  X2_house_age  X3_distance_to_the_nearest_MRT_station  \\\n",
       "0             2012.917          32.0                                84.87882   \n",
       "1             2012.917          19.5                               306.59470   \n",
       "2             2013.583          13.3                               561.98450   \n",
       "3             2013.500          13.3                               561.98450   \n",
       "4             2012.833           5.0                               390.56840   \n",
       "\n",
       "   X5_latitude  X6_longitude  Y_house_price_of_unit_area  \\\n",
       "0     24.98298     121.54024                        37.9   \n",
       "1     24.98034     121.53951                        42.2   \n",
       "2     24.98746     121.54391                        47.3   \n",
       "3     24.98746     121.54391                        54.8   \n",
       "4     24.97937     121.54245                        43.1   \n",
       "\n",
       "   X4_number_of_convenience_stores_0  X4_number_of_convenience_stores_1  \\\n",
       "0                                  0                                  0   \n",
       "1                                  0                                  0   \n",
       "2                                  0                                  0   \n",
       "3                                  0                                  0   \n",
       "4                                  0                                  0   \n",
       "\n",
       "   X4_number_of_convenience_stores_2  X4_number_of_convenience_stores_3  \\\n",
       "0                                  0                                  0   \n",
       "1                                  0                                  0   \n",
       "2                                  0                                  0   \n",
       "3                                  0                                  0   \n",
       "4                                  0                                  0   \n",
       "\n",
       "   X4_number_of_convenience_stores_4  X4_number_of_convenience_stores_5  \\\n",
       "0                                  0                                  0   \n",
       "1                                  0                                  0   \n",
       "2                                  0                                  1   \n",
       "3                                  0                                  1   \n",
       "4                                  0                                  1   \n",
       "\n",
       "   X4_number_of_convenience_stores_6  X4_number_of_convenience_stores_7  \\\n",
       "0                                  0                                  0   \n",
       "1                                  0                                  0   \n",
       "2                                  0                                  0   \n",
       "3                                  0                                  0   \n",
       "4                                  0                                  0   \n",
       "\n",
       "   X4_number_of_convenience_stores_8  X4_number_of_convenience_stores_9  \\\n",
       "0                                  0                                  0   \n",
       "1                                  0                                  1   \n",
       "2                                  0                                  0   \n",
       "3                                  0                                  0   \n",
       "4                                  0                                  0   \n",
       "\n",
       "   X4_number_of_convenience_stores_10  \n",
       "0                                   1  \n",
       "1                                   0  \n",
       "2                                   0  \n",
       "3                                   0  \n",
       "4                                   0  "
      ]
     },
     "execution_count": 634,
     "metadata": {},
     "output_type": "execute_result"
    }
   ],
   "source": [
    "# converting discrete variables to dummy\n",
    "pd.get_dummies(df, columns=['X4_number_of_convenience_stores']).head()"
   ]
  },
  {
   "cell_type": "markdown",
   "metadata": {},
   "source": [
    "## Linear regression model"
   ]
  },
  {
   "cell_type": "markdown",
   "metadata": {},
   "source": [
    "### Model"
   ]
  },
  {
   "cell_type": "code",
   "execution_count": 635,
   "metadata": {},
   "outputs": [],
   "source": [
    "# modeling libraries\n",
    "from sklearn.linear_model import LinearRegression\n",
    "from sklearn.metrics import mean_squared_error, r2_score, mean_absolute_error\n",
    "from sklearn.model_selection import train_test_split\n"
   ]
  },
  {
   "cell_type": "code",
   "execution_count": 636,
   "metadata": {},
   "outputs": [
    {
     "name": "stdout",
     "output_type": "stream",
     "text": [
      "Training Set: 331 rows\n",
      "Test Set: 83 rows\n",
      "\n",
      " Model score:\n",
      "MSE: 48.915624386313155\n",
      "RMSE: 6.993970573738007\n",
      "R2: 0.718388587452236\n",
      "Adjusted_R2: 0.7158049965114308\n"
     ]
    }
   ],
   "source": [
    "# split test and train data\n",
    "y=df['Y_house_price_of_unit_area'] # label\n",
    "X=df_scaled[['X2_house_age','X3_distance_to_the_nearest_MRT_station','X4_number_of_convenience_stores']] #predictors\n",
    "\n",
    "# Split data 80%-20% into training set and test set\n",
    "X_train, X_test, y_train, y_test = train_test_split(X, y, test_size=0.20, random_state=0)\n",
    "\n",
    "print ('Training Set: %d rows\\nTest Set: %d rows' % (X_train.shape[0], X_test.shape[0]))\n",
    "# Fit a linear regression model on the training set\n",
    "model = LinearRegression().fit(X_train, y_train)\n",
    "# test model\n",
    "predictions = model.predict(X_test)\n",
    "# evaluate model score\n",
    "print('\\n Model score:')\n",
    "mse = mean_squared_error(y_test, predictions)\n",
    "print(\"MSE:\", mse)\n",
    "\n",
    "rmse = np.sqrt(mse)\n",
    "print(\"RMSE:\", rmse)\n",
    "\n",
    "r2 = r2_score(y_test, predictions)\n",
    "print(\"R2:\", r2)\n",
    "\n",
    "adj_r2 = (1 - (1 - r2) * ((X_train.shape[0] - 1) / (X_train.shape[0] - X_train.shape[1] - 1)))\n",
    "print(\"Adjusted_R2:\", adj_r2)\n"
   ]
  },
  {
   "cell_type": "markdown",
   "metadata": {},
   "source": [
    "**Evaluation explanation**:\n",
    "- Model has an r2 score of 0.718. This is the amount of the variation in the output dependent attribute which is predictable from the input independent variable(s),  to check how well-observed results are reproduced by the model, depending on the ratio of total deviation of results described by the model.\n",
    "- Model has an adjusted r2 score of 0.715.This implies how better model is fitted to the data points \n",
    "- The model has a RMSE of 6.99 .  This tells the average distance between the predicted values from the model and the actual values in the dataset."
   ]
  },
  {
   "cell_type": "markdown",
   "metadata": {},
   "source": [
    "### Playing with predictors to check if it improves the model accuracy."
   ]
  },
  {
   "cell_type": "markdown",
   "metadata": {},
   "source": [
    "Remove the *X4_number_of_convenience_stores* column"
   ]
  },
  {
   "cell_type": "code",
   "execution_count": 637,
   "metadata": {},
   "outputs": [
    {
     "name": "stdout",
     "output_type": "stream",
     "text": [
      "Training Set: 331 rows\n",
      "Test Set: 83 rows\n",
      "\n",
      " Model score:\n",
      "MSE: 51.56284729346574\n",
      "RMSE: 7.180727490544794\n",
      "R2: 0.7031482998843106\n",
      "Adjusted_R2: 0.7013382285421418\n"
     ]
    }
   ],
   "source": [
    "# split test and train data\n",
    "y=df['Y_house_price_of_unit_area'] # label\n",
    "# Remove one of the predictor\n",
    "X=df_scaled[['X2_house_age','X3_distance_to_the_nearest_MRT_station']] #predictors\n",
    "\n",
    "# Split data 80%-20% into training set and test set\n",
    "X_train, X_test, y_train, y_test = train_test_split(X, y, test_size=0.2, random_state=0)\n",
    "\n",
    "print ('Training Set: %d rows\\nTest Set: %d rows' % (X_train.shape[0], X_test.shape[0]))\n",
    "\n",
    "# Fit a linear regression model on the training set\n",
    "model = LinearRegression().fit(X_train, y_train)\n",
    "# test model\n",
    "predictions = model.predict(X_test)\n",
    "# evaluate model score\n",
    "print('\\n Model score:')\n",
    "mse = mean_squared_error(y_test, predictions)\n",
    "print(\"MSE:\", mse)\n",
    "\n",
    "rmse = np.sqrt(mse)\n",
    "print(\"RMSE:\", rmse)\n",
    "\n",
    "r2 = r2_score(y_test, predictions)\n",
    "print(\"R2:\", r2)\n",
    "\n",
    "adj_r2 = (1 - (1 - r2) * ((X_train.shape[0] - 1) / (X_train.shape[0] - X_train.shape[1] - 1)))\n",
    "print(\"Adjusted_R2:\", adj_r2)\n"
   ]
  },
  {
   "cell_type": "markdown",
   "metadata": {},
   "source": [
    "Removal of one predictor slightly reduces the rating of the model"
   ]
  },
  {
   "cell_type": "markdown",
   "metadata": {},
   "source": [
    "Adding *X5_latitude* and *X6_latitude* to the predictors"
   ]
  },
  {
   "cell_type": "code",
   "execution_count": 638,
   "metadata": {},
   "outputs": [
    {
     "name": "stdout",
     "output_type": "stream",
     "text": [
      "Training Set: 331 rows\n",
      "Test Set: 83 rows\n",
      "\n",
      " Model score:\n",
      "MSE: 45.21653022110644\n",
      "RMSE: 6.724323774262096\n",
      "R2: 0.7396845873721006\n",
      "Adjusted_R2: 0.7356797348701329\n"
     ]
    }
   ],
   "source": [
    "# split test and train data\n",
    "y=df['Y_house_price_of_unit_area'] # label\n",
    "X=df_scaled[['X2_house_age','X3_distance_to_the_nearest_MRT_station','X4_number_of_convenience_stores','X5_latitude','X6_longitude']] #predictors\n",
    "\n",
    "# Split data 80%-20% into training set and test set\n",
    "X_train, X_test, y_train, y_test = train_test_split(X, y, test_size=0.20, random_state=0)\n",
    "\n",
    "print ('Training Set: %d rows\\nTest Set: %d rows' % (X_train.shape[0], X_test.shape[0]))\n",
    "\n",
    "# Fit a linear regression model on the training set\n",
    "model = LinearRegression().fit(X_train, y_train)\n",
    "# test model\n",
    "predictions = model.predict(X_test)\n",
    "# evaluate model score\n",
    "print('\\n Model score:')\n",
    "mse = mean_squared_error(y_test, predictions)\n",
    "print(\"MSE:\", mse)\n",
    "\n",
    "rmse = np.sqrt(mse)\n",
    "print(\"RMSE:\", rmse)\n",
    "\n",
    "r2 = r2_score(y_test, predictions)\n",
    "print(\"R2:\", r2)\n",
    "\n",
    "adj_r2 = (1 - (1 - r2) * ((X_train.shape[0] - 1) / (X_train.shape[0] - X_train.shape[1] - 1)))\n",
    "print(\"Adjusted_R2:\", adj_r2)\n"
   ]
  },
  {
   "cell_type": "markdown",
   "metadata": {},
   "source": [
    "On adding more predictors, this improves the model performance"
   ]
  },
  {
   "cell_type": "markdown",
   "metadata": {},
   "source": [
    "### Model with different set of parameters.\n",
    "\n",
    "1. Adjust the test and train size with ratio of 90% to 10%"
   ]
  },
  {
   "cell_type": "code",
   "execution_count": 639,
   "metadata": {},
   "outputs": [
    {
     "name": "stdout",
     "output_type": "stream",
     "text": [
      "Training Set: 372 rows\n",
      "Test Set: 42 rows\n",
      "\n",
      " Model score:\n",
      "MSE: 41.398153041559674\n",
      "RMSE: 6.434139650455193\n",
      "R2: 0.6800921862301448\n",
      "Adjusted_R2: 0.6774842420961513\n"
     ]
    }
   ],
   "source": [
    "# split test and train data\n",
    "y=df['Y_house_price_of_unit_area'] # label\n",
    "X=df_scaled[['X2_house_age','X3_distance_to_the_nearest_MRT_station','X4_number_of_convenience_stores']] #predictors\n",
    "\n",
    "# Split data 90%-10% into training set and test set\n",
    "X_train, X_test, y_train, y_test = train_test_split(X, y, test_size=0.10, random_state=0)\n",
    "\n",
    "print ('Training Set: %d rows\\nTest Set: %d rows' % (X_train.shape[0], X_test.shape[0]))\n",
    "# Fit a linear regression model on the training set\n",
    "model = LinearRegression().fit(X_train, y_train)\n",
    "# test model\n",
    "predictions = model.predict(X_test)\n",
    "# evaluate model score\n",
    "print('\\n Model score:')\n",
    "mse = mean_squared_error(y_test, predictions)\n",
    "print(\"MSE:\", mse)\n",
    "\n",
    "rmse = np.sqrt(mse)\n",
    "print(\"RMSE:\", rmse)\n",
    "\n",
    "r2 = r2_score(y_test, predictions)\n",
    "print(\"R2:\", r2)\n",
    "\n",
    "adj_r2 = (1 - (1 - r2) * ((X_train.shape[0] - 1) / (X_train.shape[0] - X_train.shape[1] - 1)))\n",
    "print(\"Adjusted_R2:\", adj_r2)\n"
   ]
  },
  {
   "cell_type": "markdown",
   "metadata": {},
   "source": [
    "Adjusting the test size reduces the model score"
   ]
  },
  {
   "cell_type": "markdown",
   "metadata": {},
   "source": [
    "2. Adjust the train and test size to higher ratio of 70% to 30% and including a random state of 42"
   ]
  },
  {
   "cell_type": "code",
   "execution_count": 640,
   "metadata": {},
   "outputs": [
    {
     "name": "stdout",
     "output_type": "stream",
     "text": [
      "Training Set: 289 rows\n",
      "Test Set: 125 rows\n",
      "\n",
      " Model score:\n",
      "MSE: 65.01141438227236\n",
      "RMSE: 8.062965607161695\n",
      "R2: 0.6112341502572507\n",
      "Adjusted_R2: 0.6071418781546954\n"
     ]
    }
   ],
   "source": [
    "# split test and train data\n",
    "y=df['Y_house_price_of_unit_area'] # label\n",
    "X=df_scaled[['X2_house_age','X3_distance_to_the_nearest_MRT_station','X4_number_of_convenience_stores']] #predictors\n",
    "\n",
    "# Split data 70%-30% into training set and test set\n",
    "X_train, X_test, y_train, y_test = train_test_split(X, y, test_size=0.30, random_state=42)\n",
    "\n",
    "print ('Training Set: %d rows\\nTest Set: %d rows' % (X_train.shape[0], X_test.shape[0]))\n",
    "# Fit a linear regression model on the training set\n",
    "model = LinearRegression().fit(X_train, y_train)\n",
    "# test model\n",
    "predictions = model.predict(X_test)\n",
    "# evaluate model score\n",
    "print('\\n Model score:')\n",
    "mse = mean_squared_error(y_test, predictions)\n",
    "print(\"MSE:\", mse)\n",
    "\n",
    "rmse = np.sqrt(mse)\n",
    "print(\"RMSE:\", rmse)\n",
    "\n",
    "r2 = r2_score(y_test, predictions)\n",
    "print(\"R2:\", r2)\n",
    "\n",
    "adj_r2 = (1 - (1 - r2) * ((X_train.shape[0] - 1) / (X_train.shape[0] - X_train.shape[1] - 1)))\n",
    "print(\"Adjusted_R2:\", adj_r2)\n"
   ]
  },
  {
   "cell_type": "markdown",
   "metadata": {},
   "source": [
    "3.  Adjusr the Model parameter to [fit_intercept=True, normalize=False, copy_X=True]"
   ]
  },
  {
   "cell_type": "code",
   "execution_count": 641,
   "metadata": {},
   "outputs": [
    {
     "name": "stdout",
     "output_type": "stream",
     "text": [
      "Training Set: 331 rows\n",
      "Test Set: 83 rows\n",
      "\n",
      " Model score:\n",
      "MSE: 1467.5708946575508\n",
      "RMSE: 38.30888793292688\n",
      "R2: -7.448930537910865\n",
      "Adjusted_R2: -7.526443662111882\n"
     ]
    }
   ],
   "source": [
    "# split test and train data\n",
    "y=df['Y_house_price_of_unit_area'] # label\n",
    "X=df_scaled[['X2_house_age','X3_distance_to_the_nearest_MRT_station','X4_number_of_convenience_stores']] #predictors\n",
    "\n",
    "# Split data 80%-20% into training set and test set\n",
    "X_train, X_test, y_train, y_test = train_test_split(X, y, test_size=0.20, random_state=0)\n",
    "\n",
    "print ('Training Set: %d rows\\nTest Set: %d rows' % (X_train.shape[0], X_test.shape[0]))\n",
    "# Fit a linear regression model on the training set\n",
    "model = LinearRegression(fit_intercept=False, normalize=False, copy_X=False).fit(X_train, y_train)\n",
    "# test model\n",
    "predictions = model.predict(X_test)\n",
    "# evaluate model score\n",
    "print('\\n Model score:')\n",
    "mse = mean_squared_error(y_test, predictions)\n",
    "print(\"MSE:\", mse)\n",
    "\n",
    "rmse = np.sqrt(mse)\n",
    "print(\"RMSE:\", rmse)\n",
    "\n",
    "r2 = r2_score(y_test, predictions)\n",
    "print(\"R2:\", r2)\n",
    "\n",
    "adj_r2 = (1 - (1 - r2) * ((X_train.shape[0] - 1) / (X_train.shape[0] - X_train.shape[1] - 1)))\n",
    "print(\"Adjusted_R2:\", adj_r2)\n"
   ]
  },
  {
   "cell_type": "markdown",
   "metadata": {},
   "source": [
    "## **Summary**\n",
    "I believe that my BEST model is good because it is an accurate representation of the data:\n",
    "\n",
    "1. The equation has a co-efficient of determination (R2) greater than 0.7, meaning that it’s predictive or explanatory power is greater than 70%. This means the model is performing well.\n",
    "\n",
    "2. The data used to create the model has be preprocessed, scaled and transformed , so there are no missing values or outliers, which can make a difference when trying to predict future behavior.\n",
    "\n",
    "3. A linear regression is used at each step of the model building process to ensure that a relationship exists between each independent and dependent variable in order to determine whether or not one variable may have an impact on another."
   ]
  }
 ],
 "metadata": {
  "kernelspec": {
   "display_name": "Python 3.9.12 ('base')",
   "language": "python",
   "name": "python3"
  },
  "language_info": {
   "codemirror_mode": {
    "name": "ipython",
    "version": 3
   },
   "file_extension": ".py",
   "mimetype": "text/x-python",
   "name": "python",
   "nbconvert_exporter": "python",
   "pygments_lexer": "ipython3",
   "version": "3.9.12"
  },
  "orig_nbformat": 4,
  "vscode": {
   "interpreter": {
    "hash": "f08154012ddadd8e950e6e9e035c7a7b32c136e7647e9b7c77e02eb723a8bedb"
   }
  }
 },
 "nbformat": 4,
 "nbformat_minor": 2
}
